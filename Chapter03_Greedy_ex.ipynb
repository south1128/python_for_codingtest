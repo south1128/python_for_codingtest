{
  "nbformat": 4,
  "nbformat_minor": 0,
  "metadata": {
    "colab": {
      "provenance": []
    },
    "kernelspec": {
      "name": "python3",
      "display_name": "Python 3"
    },
    "language_info": {
      "name": "python"
    }
  },
  "cells": [
    {
      "cell_type": "markdown",
      "source": [
        "## Greedy\n",
        "\n",
        "---\n",
        "\n"
      ],
      "metadata": {
        "id": "ttZY3A03vNxv"
      }
    },
    {
      "cell_type": "markdown",
      "source": [
        "####Q1 모험가 길드 \n",
        "> 한 마을에 모험가가 N 명 있습니다. 모험가 길드에서는 N 명의 모험가를 대상으로 '공포도' 를 측정했는데, '공포도' 가 높은 모험가는 쉽게 공포를 느껴 위험상황에서 제대로 대처할 능력이 떨어집니다.<br> 모험가 길드장인 동빈이는 모험가 그룹을 안전하게 구성하고자 공포도가 x 인 모험가는 반드시 x 명 이상으로 구성한 모험가 그룹에 참여해야 여행을 떠날 수 있도록 규정했습니다. 동빈이는 최대 몇개의 모험가 그룹을 만들 수 있는지 궁금합니다. <br>\n",
        "동빈이를 위해 n 명의 모험가에 대한 정보가 주어졌을때, 여행을 떠날 수 있는 그룹 수의 최댓값을 구하는 프로그램을 작성하세요.\n",
        "- 예를들어 n = 5 이고 각 모험가의 공포도가 [2,3,1,2,2] 라고 가정하면, 이때 그룹 1 에 공포도가 1,2,3 인 모험가를 한명씩 넣고 그룹 2 에 공포도가 2인 남은 두명을 넣으면 총 2개의 그룹을 만들 수 있습니다. 또한 몇명의 모험가는 마을에 그대로 남아 있어도 되기 때문에, 모든 모험가를 특정한 그룹에 넣을 필요는 없습니다. "
      ],
      "metadata": {
        "id": "jnr_3tdmuJ0I"
      }
    },
    {
      "cell_type": "code",
      "source": [
        "# 입력 조건 : \n",
        "# 첫째 줄에 모험가의 수 n 이 주어집니다. (1<= n <= 100000)\n",
        "# 둘째 줄에 각 모험가의 공포도의 값을 n 이하의 자연수로 주어지며, 각 자연수는 공백으로 구분합니다.\n",
        "\n",
        "# 출력 조건 :\n",
        "# 여행을 떠날 수 있는 그룹 수의 최댓값을 출력합니다.\n",
        "\n",
        "# How I Solved\n",
        "n = int(input())\n",
        "terrerfied = list(map(int,input().split()))\n",
        "# 공포도가 낮은 순 부터 정렬\n",
        "terrerfied.sort()\n",
        "\n",
        "count = 0 \n",
        "group = 0\n",
        "\n",
        "for i in range(n):\n",
        "  count += 1\n",
        "  # 공포도와 count 수가 같다면 그걸로 그룹형성, 아니라면 다음 i 로 넘어감 \n",
        "  if terrerfied[i] <= count :\n",
        "    group += 1\n",
        "    count = 0\n",
        "\n",
        "print(group)"
      ],
      "metadata": {
        "colab": {
          "base_uri": "https://localhost:8080/"
        },
        "id": "_0M3CSVyvLWk",
        "outputId": "dd002d88-1ca1-4eeb-dd11-14ee5da16b3f"
      },
      "execution_count": null,
      "outputs": [
        {
          "output_type": "stream",
          "name": "stdout",
          "text": [
            "5\n",
            "2 3 1 2 2\n",
            "[1, 2, 2, 2, 3]\n",
            "대원 1\n",
            "group 1\n",
            "대원 1\n",
            "대원 2\n",
            "group 2\n",
            "대원 1\n",
            "대원 2\n",
            "2\n"
          ]
        }
      ]
    },
    {
      "cell_type": "markdown",
      "source": [
        "#### Q2 곱하기 혹은 더하기\n",
        "> 각 자리가 숫자 (0 부터 9) 로만 이루어진 문자열 S 가 주어졌을때, 왼쪽부터 오른쪽으로 하나씩 모든 숫자를 확인하며 숫자 사이에 X 혹은 + 연산자를 넣어 결과적으로 만들어 질 수 있는 가장 큰 수를 구하는 푸로그램을 작성하세요<br> \n",
        "단, + 보다 X 를 먼저 계산하는 일반적인 방식과는 달리, 모든 연산은 왼쪽에서 부터 순서대로 이루어진다고 가정합니다. \n",
        "- 예를 들어 02984 라는 문자열이 주어지면 만들어질 수 있는 가장 큰 수는(((( 0+2)*9)*8)*4) = 576 입니다. 또한 만들어질 수 있는 가장 큰 수는 항상 20억 이하의 정수가 되도록 입력이 주어집니다."
      ],
      "metadata": {
        "id": "tfVlAHfI19tH"
      }
    },
    {
      "cell_type": "code",
      "source": [
        "# 입력 조건 :\n",
        "# 첫째 줄에 여러개의 숫자로 구성된 하나의 문자열 S 가 주어집니다. (1<= S 의 길이 <= 20)\n",
        "\n",
        "# 출력 조건 :\n",
        "# 첫째 줄에 만들어질 수 있는 가장 큰 수를 출력합니다. \n",
        "\n",
        "# How I solved\n",
        "\n",
        "# s 는 string 이기 때문에, map 함수 필요 없음.\n",
        "S = input()\n",
        "\n",
        "# 0 이 아닌 경우 전부 곱하기를 하는 것이 가장 큰 수를 만드는 방법이다.\n",
        "# 1 또한 곱하기 보다 더하기가 더 큰 수를 만드는데에 유리하다 (1+2 = 3 / 1*2 = 2)\n",
        "# 0 인 경우에만 더하기 연산이 이루어지고 나머지는 곱하기 연산이기 때문에 result 는 첫번째 값을 담아준다\n",
        "result = 0\n",
        "\n",
        "for s in S:\n",
        "  if s == \"0\" or s == \"1\":\n",
        "    result += int(s)\n",
        "  else : \n",
        "    if result == 0 : \n",
        "      result += int(s)\n",
        "    else :\n",
        "      result *= int(s)\n",
        "    \n",
        "\n",
        "print(result)"
      ],
      "metadata": {
        "colab": {
          "base_uri": "https://localhost:8080/"
        },
        "id": "DfJ7VEgC2uHi",
        "outputId": "d6332165-97f8-4245-bc83-e52480f1a667"
      },
      "execution_count": null,
      "outputs": [
        {
          "output_type": "stream",
          "name": "stdout",
          "text": [
            "02984\n",
            "576\n"
          ]
        }
      ]
    },
    {
      "cell_type": "markdown",
      "source": [
        "#### Q3 문자열 뒤집기 \n",
        "> 다솜이는 0 과 1 로만 이루어진 문자열 S 를 가지고 있습니다. 다솜이는 이 문자열 S 에 있는 모든 숫자를 전부 같에 만들려고 합니다. 다솜이가 할 수 있는 행동은 S 에서 연속된 하나 이상의 숫자를 잡고 모두 뒤집는 것 입니다. 뒤집는 것은 1 을 0 으로 0 을 1로 바꾸는 것을 의미합니다. <br>\n",
        "예를들어 S = 0001100 일 때는 다음과 같습니다.\n",
        "1. 전체를 뒤집으면 1110011 이 됩니다.\n",
        "2. 4번째 문자부터 5번째 문자까지 뒤집으면 1111111이 되어서 두번 만에 모두 같은 숫자로 만들 수 있습니다. \n",
        "\n",
        "> 하지만 처음부터 4번째 5번째 문자까지 문자를 뒤집으면 한번에 0000000 이 되어서 1번 만에 모두 같은 숫자로 만들 수 있습니다. 문자열 S 가 주어졌을때, 다솜이가 해야 하는 행동의 최소 횟수를 출력하세요.\n",
        "\n"
      ],
      "metadata": {
        "id": "U1QDWPn34q-z"
      }
    },
    {
      "cell_type": "code",
      "source": [
        "# 입력 조건 : \n",
        "# 첫째 줄에 0 과 1 로만 이루어진 문자열 S 가 주어집니다 S 의 길이는 100만 보다 작습니다. \n",
        "\n",
        "# 출력 조건 :\n",
        "# 첫째 줄에 다솜이가 해야하는 행동의 최소 횟수를 출력합니다.\n",
        "\n",
        "# How I solved \n",
        "# 0 덩어리 갯수와 1 덩어리 갯수를 비교하여 적은쪽을 뒤집는다고 판단. \n",
        "\n",
        "S = input()\n",
        "\n",
        "\n",
        "group0 = 0 \n",
        "group1 = 0\n",
        "\n",
        "# 첫번째 덩어리 정해주기 \n",
        "if S[0] == \"0\": \n",
        "  group0 +=1\n",
        "else : group1 +=1\n",
        "\n",
        "# 숫자가 바뀔때 그에 맞는 덩어리 카운트를 올려준다\n",
        "for i in range(len(S)-1):\n",
        "  if S[i] != S[i+1] :\n",
        "    if S[i] == \"0\" :\n",
        "      group0 += 1\n",
        "     \n",
        "    else :\n",
        "      group1 += 1\n",
        "     \n",
        "\n",
        "\n",
        "print(min(group0,group1)) "
      ],
      "metadata": {
        "colab": {
          "base_uri": "https://localhost:8080/"
        },
        "id": "YYFuOmpg7aBO",
        "outputId": "1414dc46-7b0a-4db9-ed7a-ebcce5c48050"
      },
      "execution_count": null,
      "outputs": [
        {
          "output_type": "stream",
          "name": "stdout",
          "text": [
            "0010100\n",
            "2\n"
          ]
        }
      ]
    },
    {
      "cell_type": "markdown",
      "source": [
        "####Q4 만들 수 없는 금액\n",
        "> 동네 편의점 주인인 동빈이는 N 개의 동전을 가지고 있습니다. 이때 N 개의 동전을 이용하여 만들 수 없는 양의 정수 금액 중 최솟값을 구하는 프로그램을 작성하세요\n",
        "- 예를들어 n = 5 이고 각 동전이 3원, 2원, 1원, 1원,9원짜리 동전이라고 가정할 때, 동빈이가 만들 수 없는 양의 정수 금액 중 최솟값은 8원 입니다. \n",
        "- 다른 예시로 n = 3 이고, 각 동전이 3원, 5원, 7원 동전일때, 최솟값은 1원 입니다."
      ],
      "metadata": {
        "id": "Vtbkpi5CBLhT"
      }
    },
    {
      "cell_type": "code",
      "source": [
        "# 입력 조건 : \n",
        "# 첫째 줄 에는 동전의 개수를 나타내는 양의 정수 n 이 주어집니다. (1<= n <= 1000)\n",
        "# 둘째 줄에는 각 동전의 화폐단위를 나타내는 n 개의 자연수가 주어지며, 각 자연수는 공백으로 구분합니다. 이때 각 화폐단위는 1000000 이하의 자연수 입니다.\n",
        "\n",
        "# 출력 조건 : \n",
        "# 첫째 줄에 주어진 동전들로 만들 수 없는 양의 정수 금액 중 최솟값을 출력합니다.\n",
        "\n",
        "# 풀이 예시 답 \n",
        "n = int(input())\n",
        "coins = list(map(int,input().split()))\n",
        "\n",
        "coins.sort()\n",
        "\n",
        "target = 1 \n",
        "for coin in coins :\n",
        "  if target < coin :\n",
        "    break\n",
        "  target += coin\n",
        "\n",
        "print(target)\n",
        "      \n",
        "  "
      ],
      "metadata": {
        "id": "Qm0Hn19vB3Ua"
      },
      "execution_count": null,
      "outputs": []
    },
    {
      "cell_type": "markdown",
      "source": [
        "`이해가 안되서 답지를 보고도 한참 해멨다 ;( `\n",
        "- step 별 이해 해 보기 \n",
        "  - 동전이 4 개 , 화폐단위가 1,2,3,8 일 경우 \n",
        "  - step 1 : target 금액 1 로 설정 후 만들 수 있는지 확인 , 가능 하다면 1 까지 모든 금액을 만들 수 있다는 뜻 이다.  target 을 1+ 1 로 업데이트 한다\n",
        "  - step 2 : target 2 를 만들 수 있는지 확인 . (3 까지 모든 금액 만들 수 있다)\n",
        "  - step 3 : target 은 2+ 2= 4 가 되었고, 3원짜리가 있으므로 만들 수 있다. (6까지 만들 수 있다)\n",
        "  - step 4 : target 은 4+3 = 7 이 되었고, 다음 화폐는 8원 짜리다 즉 7원을 만들 수 없어 정답은 7 이 된다.\n",
        "\n",
        "- 문제 해결 아이디어 : 동전을 화폐단위로 정렬한 뒤 , 단위가 작은 동전 부터 하나씩 확인 하며 target 변수를 업데이트 하여 최적의 해를 구한다."
      ],
      "metadata": {
        "id": "qfxt0c_nymxl"
      }
    },
    {
      "cell_type": "markdown",
      "source": [
        "####Q5 볼링공 고르기 \n",
        "> A,B 두 사람이 볼링을 치고 있습니다. 두 사람은 서로 무게가 다른 볼링공을 고르려고 합니다. 볼링공은 총 N 개가 있으며, 각 볼링공 마다 무게가 적혀있고, 공의 번호는 1번 부터 순서대로 부여됩니다. 또한 같은 무게의 공이 여러개 있을 수 있지만, 서로 다른 공으로 간주합니다. 볼링공의 무게는 1부터 M 까지 자연수 형태로 존재합니다. \n",
        "- 예를들어 N 이 5이고 , M 이 3 이며 각각의 무게가 차례대로 1,3,2,3,2 일 때 각 공의 번호가 차례대로 1번 부터 5 번 까지 이어집니다. 이때 두 사람이 고를 수 있는 볼링공의 번호 조합을 구하면 다음과 같습니다. (1,2) , (1,3) , (1,4) , (1,5) , (2,3), (2,5), (3,4), (4,5) \n",
        "- 결과적으로 두 사람이 공을 고르는 경우의 수는 8 가지 입니다. N 개의 공의 무게가 각각 주어질 때, 두 사람이 볼링공을 고르는 경우의 수를 구하는 프로그램을 작성하세요"
      ],
      "metadata": {
        "id": "hAxWpwl1h7Gc"
      }
    },
    {
      "cell_type": "code",
      "source": [
        "# 입력 조건 : \n",
        "# 첫째 줄에 볼링공의 개수 N , 공의 최대 무게 M, 이 공백으로 구분되어 각각 자연수 형태로 주어집니다. (1<= N<= 10000,1<= M <= 10)\n",
        "# 둘째 줄에 각 볼링공의 무게 K 가 공백으로 구분되어 순서대로 자연수 형태로 제공됩니다. (1<= K <= M)\n",
        "\n",
        "# 출력 조건 :\n",
        "# 첫째 줄에 두 사람이 볼링공을 고르는 경우의 수를 출력합니다.\n",
        "\n",
        "n,m = map(int, input().split())\n",
        "k = list(map(int,input().split()))\n",
        "count = 0\n",
        "\n",
        "for i in range(n):\n",
        "  for j in range(i,n):\n",
        "    if k[i] != k[j] : count +=1\n",
        "\n",
        "print(count)"
      ],
      "metadata": {
        "colab": {
          "base_uri": "https://localhost:8080/"
        },
        "id": "ntSBthuNi712",
        "outputId": "aea2d77f-7193-4b03-ad8a-db89270c5494"
      },
      "execution_count": null,
      "outputs": [
        {
          "output_type": "stream",
          "name": "stdout",
          "text": [
            "8 5\n",
            "1 5 4 3 2 4 5 2\n",
            "25\n"
          ]
        }
      ]
    },
    {
      "cell_type": "markdown",
      "source": [
        "#### Q6 무지의 먹방 라이브\n",
        "> 평소 식욕이 왕성한 무지는 자신의 재능을 뽐내고 싶어졌고 고민끝에 카카오 TV 라이브 방송을 하기로 마음 먹었습니다. 그냥 먹방을 하면 다른 방송과 차별성이 없기 때문에 무지는 다음과 같이 독특한 방식을 생각해냈습니다.\n",
        "<br>\n",
        "<br>\n",
        "회전판에 먹어야 할 N 개의 음식이 있습니다. 각 음식에는 1부터 n 까지 번호가 붙어있으며, 각 음식을 섭취하는데 일정 시간이 소요됩니다. 무지는 다음과 같은 방법으로 음식을 섭취합니다.\n",
        "  1. 무지는 1번 음식부터 먹기 시작하며, 회전판은 번호가 증가하는 순서대로 음식을 무지 앞으로 가져다 놓습니다.\n",
        "  2. 마지막 번호의 음식을 섭취한 후에는 회전판에 의해 다시 1번 음식이 무지 앞으로 옵니다.\n",
        "  3. 무지는 음식 하나를 1초 동안 섭취한 후 남은 음식은 그대로 두고, 다음 음식을 섭취합니다. 다음 음식이란 아직 남은 음식 중 다음으로 섭취해야 할 가장 가까운 번호의 음식을 말합니다.\n",
        "  4. 회전판이 다음 음식을 무지 앞으로 가져오는데 걸리는 시간은 없다고 가정합니다.\n",
        "<br>\n",
        "<br>\n",
        "\n",
        "> 무지가 먹방을 시작한지 K 초 후에 네트웨크 장애로 인해 방송이 잠시 중단되었습니다. 무지는 네트워크 정상화 후 다시 방송을 이어 갈 때, 몇번 음식부터 섭취해야 하는지를 알고자 합니다. 각 음식을 모두 먹는데 필요한 시간이 담겨있는 배열 food_times, 네트워크 장애가 발생한 시간 k 초가 매개변수로 주어질 때 몇 번 음식부터 다시 섭취하면 되는지 return 하도록 solution 함수를 완성하세요\n"
      ],
      "metadata": {
        "id": "GrVDaFNMkaAt"
      }
    },
    {
      "cell_type": "markdown",
      "source": [
        "* 제한 사항 \n",
        "  - food times 는 각 음식을 모두 먹는데 필요한 시간이 음식의 번호 순서대로 들어 있는 배열 입니다.\n",
        "  - k 는 방송이 중단된 시간을 나타냅니다\n",
        "  - 만약 더 섭취해야 할 음식이 없다면 -1 을 return 하면 됩니다.\n",
        "\n",
        "* 정확성 테스트 제한 사항\n",
        "  - food times의 길이는 1 이상 2000 이하 입니다.\n",
        "  - food times 의 원소는 1 이상 1000 이하의 자연 수 입니다.\n",
        "  - k 는 1 이상 2000000 이하의 자연수 입니다.\n",
        "\n",
        "\n",
        "* 효율성 테스트 제한 사항\n",
        "  - food times의 길이는 1 이상 2000000 이하 입니다.\n",
        "  - food times 의 원소는 1 이상 100000000 이하의 자연 수 입니다.\n",
        "  - k 는 1 이상 20000000000000 이하의 자연수 입니다."
      ],
      "metadata": {
        "id": "VMS06lV-mEyA"
      }
    },
    {
      "cell_type": "code",
      "source": [
        "# couldn't solve yet \n",
        "def solution(food_times, k):\n",
        "    food_count = len(food_times)\n",
        "    answer = 0\n",
        "    gone = 0\n",
        "    i = 0\n",
        "    while i < k :\n",
        "      for j in range(len(food_times)):\n",
        "        food_times[j] -= 1\n",
        "        i += 1\n",
        "        print(food_times)\n",
        "      gone += food_times.count(0)\n",
        "      if food_times.count(0) >=1: \n",
        "        food_times.remove(0)\n",
        "   \n",
        "      print(food_times)\n",
        "      print(i)\n",
        "      answer = (k + gone)%food_count\n",
        "    return answer\n",
        "\n",
        "solution([3,1,2],5)\n",
        "/????????"
      ],
      "metadata": {
        "colab": {
          "base_uri": "https://localhost:8080/"
        },
        "id": "fVAlfqu-tjI-",
        "outputId": "a0b0870b-ed7b-4a33-c3eb-90ced14f234e"
      },
      "execution_count": null,
      "outputs": [
        {
          "output_type": "stream",
          "name": "stdout",
          "text": [
            "[2, 1, 2]\n",
            "[2, 0, 2]\n",
            "[2, 0, 1]\n",
            "[2, 1]\n",
            "3\n",
            "[1, 1]\n",
            "[1, 0]\n",
            "[1]\n",
            "5\n"
          ]
        },
        {
          "output_type": "execute_result",
          "data": {
            "text/plain": [
              "1"
            ]
          },
          "metadata": {},
          "execution_count": 22
        }
      ]
    },
    {
      "cell_type": "markdown",
      "source": [
        "아직 못풀었고, 해답을 봐도 이해하지 못했다. 다음에 다시 도전해야지...."
      ],
      "metadata": {
        "id": "a17aJM8s0UyS"
      }
    }
  ]
}