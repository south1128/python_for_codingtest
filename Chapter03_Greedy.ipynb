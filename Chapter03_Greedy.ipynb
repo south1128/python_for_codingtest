{
  "nbformat": 4,
  "nbformat_minor": 0,
  "metadata": {
    "colab": {
      "provenance": []
    },
    "kernelspec": {
      "name": "python3",
      "display_name": "Python 3"
    },
    "language_info": {
      "name": "python"
    }
  },
  "cells": [
    {
      "cell_type": "markdown",
      "source": [
        "##CHAPTER 3 GREEDY\n",
        "\n",
        "---\n",
        "\\\n",
        "### : 당장 좋은 것만 선택하는 그리디 \n",
        "- 현재 상황에서 지금 당장 좋은 것만 고르는 방법\n",
        "- 현재의 선택이 나중에 미칠 영향에 대해서는 고려하지 않는다 \n",
        "- 기준을 대체로 제시해줌 -> 정렬 알고리즘과 짝을 이뤄 출제됨"
      ],
      "metadata": {
        "id": "fpqI4vZCTVZ-"
      }
    },
    {
      "cell_type": "markdown",
      "source": [
        "#### 예제 [3-1] 거스름돈<br>\n",
        "\n",
        ">당신은 음식점의 계산을 도와주는 점원이다. 카운터에는 거스름돈으로 사용할 500원, 100원, 50원, 10원 짜리 동전이 무한히 존재한다고 가정한다. 손님에게 거슬러 줘야 할 돈이 N 원일 때 거슬러 줘야 할 동전의 최소 개수를 구하라. 단 거슬러 줘야 할 돈 N 은 항상 10의 배수이다.\n",
        "\n"
      ],
      "metadata": {
        "id": "OOA2P5eXUwx5"
      }
    },
    {
      "cell_type": "code",
      "source": [
        "# 동전을 최소한으로 사용한다 -> '가장 큰 화폐단위부터' 돈을 거슬러 준다.\n",
        "\n",
        "n = 1260\n",
        "count = 0 \n",
        "\n",
        "# 큰 단위 화폐부터 차례대로 확인\n",
        "coin_types = [ 500, 100, 50, 10]\n",
        "\n",
        "for coin in coin_types :\n",
        "  count += n// coin\n",
        "  n %= coin\n",
        "\n",
        "print(count)"
      ],
      "metadata": {
        "colab": {
          "base_uri": "https://localhost:8080/"
        },
        "id": "G8Yih6_5Uvbk",
        "outputId": "dae29221-8d2b-4ebf-8fb0-97339cbf2bc7"
      },
      "execution_count": null,
      "outputs": [
        {
          "output_type": "stream",
          "name": "stdout",
          "text": [
            "6\n"
          ]
        }
      ]
    },
    {
      "cell_type": "markdown",
      "source": [
        "- 그리디 알고리즘으로 문제의 해법을 찾았을 때에는 그 해법이 정당한지 검토해야 한다. "
      ],
      "metadata": {
        "id": "y1-Gqj69XoPc"
      }
    },
    {
      "cell_type": "markdown",
      "source": [
        "### [ 실전 문제 ]\n",
        "\n",
        "\n",
        "---\n",
        "\n"
      ],
      "metadata": {
        "id": "17nm5BGnYHq2"
      }
    },
    {
      "cell_type": "markdown",
      "source": [
        "#### 예제 [3-2] 큰 수의 법칙 \n",
        "\n",
        "> 다양한 수로 이루어진 배열이 있을 때 주어진 수들을 M 번 더하여 가장 큰 수를 만드는 법칙이다. 단 배열의 특정한 인덱스(번호)에 해당하는 수가 연속해서 K 번을 초과하여 더해질 수 없는 것이 이 법칙의 특징이다.\n",
        "- 예를들어 순서대로 2,4,5,4,6 으로 이루어진 배열이 있을 떄 M 이 8 이고 K 가 3 이라고 가정하자, 이 경우 특정한 인덱스의 수가 연속해서 세번까지만 더해질 수 있으므로 큰 수의 법칙에 따른 결과는 6+6+6+5+6+6+6+5 인 46 이 된다. <br>\n",
        "<br>\n",
        "- 단 서로 다른 인덱스에 해당하는 수가 같은 경우에도 서로 다른 것으로 간주한다. 순서대로 [3,4,3,4] 로 이루어진 배열이 있을때, M 이 7이고, K 가 2 라고 가정하자. 이 경우 두번째 원소에 해당하는 4 와 네번째 4를 번갈아 2번씩 더하는 것이 가능하다. 결과적으로 4+4+4+$+4+4+4 인 28이 도출된다.<br>\n",
        "\n",
        "\n",
        ">배열의 크기 N, 숫자가 더해지는 횟수 M, 그리고 K 가 주어질때 큰수의 법칙에 따른 결과를 출력하시오\n"
      ],
      "metadata": {
        "id": "JeXN0WfwYtEO"
      }
    },
    {
      "cell_type": "code",
      "source": [
        "# 입력조건 :\n",
        "# - 첫째 줄에 N(2<= N <= 1000),M(1<= M <= 10000),K(1<= K <= 10000)의 자연수가 주어지며, 각자연수는 공백으로 구분한다.\n",
        "# - 둘째 줄에 N 개의 자연수가 주어진다. 각 자연수는 공백으로 구분된다. 단, 각각의 자연수는 1 이상 10000 이하의 수로 주어진다. \n",
        "# - 입력으로 주어지는 K 는 항상 M 보다 작거나 같다.\n",
        "\n",
        "# 출력조건 : \n",
        "# - 첫재 줄에 동빈이의 큰 수의 법칙에 따라 더해진 답을 출력한다. \n",
        "\n",
        "\n",
        "n,m,k = map(int, input().split())\n",
        "data = list(map(int, input().split()))\n",
        "\n",
        "data.sort()\n",
        "largest = data[n-1]\n",
        "second_largest = data[n-2]\n",
        "\n",
        "result = 0\n",
        "count = 0\n",
        "\n",
        "while count <= m :\n",
        "  for i in range(k):\n",
        "    if count >= m : break\n",
        "    result += largest\n",
        "    count += 1\n",
        "  if count >= m : break\n",
        "  result += second_largest\n",
        "  count += 1\n",
        "\n",
        "print(result)\n",
        "\n",
        "\n"
      ],
      "metadata": {
        "colab": {
          "base_uri": "https://localhost:8080/"
        },
        "id": "i1TqxnpiXn0N",
        "outputId": "21e903f8-9352-4a8e-feea-281562f565cd"
      },
      "execution_count": null,
      "outputs": [
        {
          "output_type": "stream",
          "name": "stdout",
          "text": [
            "5 8 3\n",
            "2 4 5 4 6\n",
            "46\n"
          ]
        }
      ]
    },
    {
      "cell_type": "code",
      "source": [
        "# M 값이 무수히 커질 경우 time out 발생 가능성 \n",
        "# 반복되는 수열에 대해 파악하면 time out 문제 해결 가능 \n",
        "\n",
        "n,m,k = map(int, input().split())\n",
        "data = list(map(int, input().split()))\n",
        "\n",
        "data.sort()\n",
        "largest = data[n-1]\n",
        "second_largest = data[n-2]\n",
        "\n",
        "result = 0\n",
        "\n",
        "# [가장 큰 수 * k 번 더한것 + 두번째 큰 수] 라는 단위의 수열로 반복해서 더해짐  \n",
        "unit = (largest * k) + second_largest\n",
        "# (k+1) = 단위 수열의 길이 , 더해지는 갯수 \n",
        "# m /(k+1) 만큼 단위 수열이 더해짐 + 나머지 만큼 가장 큰 숫자가 더해짐\n",
        "result = unit*(m//(k+1))+ largest*(m%(k+1))\n",
        "\n",
        "print(result)"
      ],
      "metadata": {
        "colab": {
          "base_uri": "https://localhost:8080/"
        },
        "id": "X9V5uGMLer8H",
        "outputId": "3e92aa6c-3a3b-47b9-e3e4-e25baaa1ac64"
      },
      "execution_count": null,
      "outputs": [
        {
          "output_type": "stream",
          "name": "stdout",
          "text": [
            "5 8 3\n",
            "2 4 5 4 6\n",
            "46\n"
          ]
        }
      ]
    },
    {
      "cell_type": "markdown",
      "source": [
        "#### 예제 [3-3] 숫자 카드 게임\n",
        "> 숫자 카드 게임은 여러개의 숫자 카드 중에서 가장 높은 숫자가 쓰인 카드 한 장을 뽑는 게임이다.\n",
        "단 게임의 룰을 지키며 카드를 뽑아야 하고 룰은 다음과 같다.\n",
        "1. 숫자가 쓰인 카드들이 N * M 형태로 놓여있다. 이때 N 은 행의 개수를의미하며 M 은 열의 개수를 의미한다.\n",
        "2. 먼저 뽑고자 하는 카드가 포함되어 있는 행을 선택한다.\n",
        "3. 그다음 선택된 행에 포함된 카드들 중 가장 숫자가 낮은 카드를 뽑아야 한다.\n",
        "4. 따라서 처음에 카드를 골라낼 행을 선택할 때, 이후에 해당 행에서 가장 숫자가 낮은 카드를 뽑을 것을 고려하여 최종적으로 가장 높은 숫자의 카드를 뽑을 수 있도록 전략을 세워야 한다."
      ],
      "metadata": {
        "id": "1dsh62UOhjdu"
      }
    },
    {
      "cell_type": "code",
      "source": [
        "# 입력 조건 :\n",
        "# - 첫째 줄에 숫자 카드들이 놓인 행의 개수 N 과 열의 개수 M 이 공백을 기준으로 하여 각각 자연수로 주어진다. (1<= N,M <= 100)\n",
        "# - 둘째 줄부터 N 개의 줄에 걸쳐 각 카드에 적힌 숫자가 주어진다. 각 숫자는 1 이상 10000 이하의 자연수 이다.\n",
        "\n",
        "# 출력 조건 :\n",
        "# - 첫째 줄에 게임의 룰에 맞게 선택한 카드에 적힌 숫자를 출력한다.\n",
        "\n",
        "# How I solved\n",
        "n,m = map(int, input().split())\n",
        "\n",
        "mindest_now = 0\n",
        "\n",
        "for i in range(n):\n",
        "  row = list(map(int, input().split()))\n",
        "  mindest_new = min(row)\n",
        "  if mindest_new > mindest_now :\n",
        "    mindest_now = mindest_new\n",
        "\n",
        "print(mindest_now)"
      ],
      "metadata": {
        "colab": {
          "base_uri": "https://localhost:8080/"
        },
        "id": "X5tumk5Oihjv",
        "outputId": "1e1c46cd-64d7-4fcc-c457-80d05ad97f7b"
      },
      "execution_count": null,
      "outputs": [
        {
          "output_type": "stream",
          "name": "stdout",
          "text": [
            "3 3\n",
            "3 1 2\n",
            "4 1 4\n",
            "2 2 2\n",
            "2\n"
          ]
        }
      ]
    },
    {
      "cell_type": "code",
      "source": [
        "# min() 함수를 이용하는 답 예시\n",
        "\n",
        "n,m = map(int, input().split())\n",
        "\n",
        "result = 0 \n",
        "\n",
        "for i in range(n):\n",
        "  data = list(map(int, input().split()))\n",
        "  # 현재 줄에서 가장 작은 수 찾기\n",
        "  min_value = min(data)\n",
        "  # 가장 작은 수 들 중에서 가장 큰 수 찾기\n",
        "  result = max(result,min_value)\n",
        "\n",
        "print(result)\n"
      ],
      "metadata": {
        "id": "0JsnkNsJlWLt"
      },
      "execution_count": null,
      "outputs": []
    },
    {
      "cell_type": "code",
      "source": [
        "# 2중 반복문 구조를 이용하는 답 예시\n",
        "\n",
        "n,m = map(int, input().split())\n",
        "\n",
        "result = 0 \n",
        "\n",
        "for i in range(n):\n",
        "  data = list(map(int, input().split()))\n",
        "  # 현재 줄에서 가장 작은 수 찾기\n",
        "  min_value = 1001\n",
        "  for a in data :\n",
        "    min_value = min(min_value,a)\n",
        "  # 가장 작은 수 들 중에서 가장 큰 수 찾기\n",
        "  result = max(result,min_value)\n",
        "\n",
        "print(result)"
      ],
      "metadata": {
        "id": "CqCHQs8zlztH"
      },
      "execution_count": null,
      "outputs": []
    },
    {
      "cell_type": "markdown",
      "source": [
        "#### 예제 [3-4] 1이 될 때까지\n",
        "> 어떠한 수 N 이 1이 될 때까지 다음의 두 과정중 하나를 반복적으로 선택하여 수행하려고 한다. 단, 두번째 연산은 N 이 K 로 나누어 떨어질 때만 선택 할 수 있다.\n",
        "1. N 에서 1 을 뺀다\n",
        "2. N 을 K 로 나눈다. \n",
        "\n",
        ">예를들어 N 이 17, K 가 4 라고 가정하자 이때 1번의 과정을 한번 수행하면 16이 된다. 이후에 2번의 과정을 두번 수행하면 N 은 1 이 된다. 결과적으로 이 경우 전체 과정을 실행한 횟수는 3이 된다. 이는 N 을 1로 만드는 최소 횟수이다. \n",
        "<br>\n",
        "N 과 K 가 주어질 때 N 이 1이 될 때 까지 과정을 수행해야 하는 최소 횟수를 구하는 프로그램을 작성하시오 "
      ],
      "metadata": {
        "id": "ukPrt8lGmKOd"
      }
    },
    {
      "cell_type": "code",
      "source": [
        "# 입력 조건 : \n",
        "# - 첫째 줄에 N(2<= N <=100000) 과 K(2<=100000) 가 공백으로 구분되며 각각 자연수로 주어진다.\n",
        "# 이때 입력으로 주어지는 N 은 항상 K 보다 크거나 같다.\n",
        "\n",
        "# 출력 조건 : \n",
        "# - 첫째 줄에 N 이 1이 될 때까지 수행해야 하는 과정의 횟수의 최솟값을 출력한다.\n",
        "\n",
        "# How I solved \n",
        "# k로 나누는 횟수가 많을 수록 최종적으로 수행하는 과정이 적어진다. \n",
        "\n",
        "n,k = map(int,input().split())\n",
        "\n",
        "result = 0\n",
        "count = 0\n",
        "while n>1:\n",
        "  if n%k == 0 :\n",
        "    n = n// k\n",
        "    count += 1\n",
        "  else : \n",
        "    n = n - 1\n",
        "    count += 1\n",
        "\n",
        "print(count)"
      ],
      "metadata": {
        "colab": {
          "base_uri": "https://localhost:8080/"
        },
        "id": "XLY4SmwtnG2T",
        "outputId": "c9a9cf3f-ca26-4189-ae85-58238d44d69e"
      },
      "execution_count": null,
      "outputs": [
        {
          "output_type": "stream",
          "name": "stdout",
          "text": [
            "17 4\n",
            "3\n"
          ]
        }
      ]
    },
    {
      "cell_type": "code",
      "source": [
        "# 답안 예시 1 \n",
        "n,k = map(int,input().split())\n",
        "result = 0\n",
        "\n",
        "# n 이 k 이상이라면 k 로 계속 나누기\n",
        "while n>=k :\n",
        "  # n 이 k 로 나누어 떨어지지 않는다면 n 에서 1 씩 빼기\n",
        "  while n%k !=0 :\n",
        "    n -= 1\n",
        "    result += 1\n",
        "  # k 로 나누기\n",
        "  n //= k\n",
        "  result += 1\n",
        "\n",
        "# 마지막으로 남은 수에 대하여 1 씩 빼기\n",
        "while n>1 :\n",
        "  n -= 1 \n",
        "  result += 1\n",
        "\n",
        "print(result)"
      ],
      "metadata": {
        "id": "MIjiQI_apL0D"
      },
      "execution_count": null,
      "outputs": []
    },
    {
      "cell_type": "code",
      "source": [
        "# n 이 100 억 이상 되는 큰 수 일 경우 답안 예시 \n",
        "n,k = map(int,input().split())\n",
        "\n",
        "result = 0\n",
        "\n",
        "while True : \n",
        "  #(N == K 로 나누어 떨어지는 수)가 될 때 까지 1 씩 빼기\n",
        "  target = (n//k) * k\n",
        "  result += (n-target)\n",
        "  n == target\n",
        "\n",
        "  # 더이상 나눌 수 없을 때 반복문 탈출\n",
        "  if n<k : break\n",
        "  # K 로 나누기\n",
        "  result += 1\n",
        "  n//= k\n",
        "\n",
        "# 마지막으로 남은 수에 대하여 1 씩 빼기\n",
        "result += (n-1)\n",
        "print(result)"
      ],
      "metadata": {
        "id": "1gV9zw-JpMGh"
      },
      "execution_count": null,
      "outputs": []
    }
  ]
}